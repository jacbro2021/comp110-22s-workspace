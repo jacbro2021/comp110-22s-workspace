{
 "cells": [
  {
   "cell_type": "markdown",
   "metadata": {},
   "source": [
    "# quantifying shakespeare\n",
    "\n",
    "In this notebook we will find the frequencies with which shakespeare's words used letters."
   ]
  },
  {
   "cell_type": "code",
   "execution_count": 28,
   "metadata": {},
   "outputs": [
    {
     "name": "stdout",
     "output_type": "stream",
     "text": [
      "12972\n"
     ]
    }
   ],
   "source": [
    "from io import TextIOWrapper\n",
    "\n",
    "def read_file(filename: str) -> list[str]:\n",
    "    \"\"\"Given the name of a file return a list of its lines.\"\"\"\n",
    "    lines: list[str]= []\n",
    "    file: TextIOWrapper = open(filename, \"r\", encoding=\"utf8\")\n",
    "    for line in file:\n",
    "        line = line.strip()\n",
    "        line = line.lower()\n",
    "        if line != \"\":\n",
    "            lines.append(line)\n",
    "    return lines\n",
    "\n",
    "shakespeare_lines: list[str] = read_file(\"./wordle.txt\")\n",
    "print(len(shakespeare_lines))"
   ]
  },
  {
   "cell_type": "markdown",
   "metadata": {},
   "source": [
    "The next step of our analysis is to count the letters in the lines list one-by-one to find the frequency of use of each letter."
   ]
  },
  {
   "cell_type": "code",
   "execution_count": 29,
   "metadata": {},
   "outputs": [
    {
     "name": "stdout",
     "output_type": "stream",
     "text": [
      "{'a': 5990, 'h': 1760, 'e': 6662, 'd': 2453, 'l': 3371, 'i': 3759, 'r': 4158, 'g': 1644, 't': 3295, 'b': 1627, 'c': 2028, 'k': 1505, 's': 6665, 'f': 1115, 'm': 1976, 'p': 2019, 'n': 2952, 'y': 2074, 'o': 4438, 'w': 1039, 'u': 2511, 'v': 694, 'z': 434, 'x': 288, 'j': 291, 'q': 112}\n"
     ]
    }
   ],
   "source": [
    "# goal: define a function named `tally` \n",
    "# Give the function a dictionaary reference [str, int] and a key\n",
    "# if the key is in the dictionary, increase the value by 1\n",
    "# otherwise, set the keys value to 1\n",
    "# returns none\n",
    "\n",
    "def tally(data: dict[str, int], key: str) -> None:\n",
    "    \"\"\"mutate counts to increment a key by 1 if it exists, or initialize to 1.\"\"\"\n",
    "    if key in data:\n",
    "        data[key] += 1\n",
    "    else: \n",
    "        data[key] = 1\n",
    "    return None\n",
    "\n",
    "\n",
    "def count_letters(lines: list[str]) -> dict[str, int]:\n",
    "    \"\"\"count frequencies of all letters in a list of strings.\"\"\"\n",
    "    counts: dict[str, int] = {}\n",
    "    # loop through all lines\n",
    "    # for each line loop through all characters\n",
    "    # tally character into count dictionary \n",
    "    # challenge: tally only letters\n",
    "    for line in shakespeare_lines:\n",
    "        for letter in line:\n",
    "            if letter >= \"a\" and letter <= \"z\":\n",
    "                tally(counts, letter)\n",
    "    return counts\n",
    "\n",
    "shakespeare_letters: dict[str, int] = count_letters(shakespeare_lines)\n",
    "print(shakespeare_letters)"
   ]
  },
  {
   "cell_type": "markdown",
   "metadata": {},
   "source": [
    "let's create a visualization of this data with a bar chart"
   ]
  },
  {
   "cell_type": "code",
   "execution_count": 30,
   "metadata": {},
   "outputs": [
    {
     "name": "stdout",
     "output_type": "stream",
     "text": [
      "{'a': 5990, 'h': 1760, 'e': 6662, 'd': 2453, 'l': 3371, 'i': 3759, 'r': 4158, 'g': 1644, 't': 3295, 'b': 1627, 'c': 2028, 'k': 1505, 's': 6665, 'f': 1115, 'm': 1976, 'p': 2019, 'n': 2952, 'y': 2074, 'o': 4438, 'w': 1039, 'u': 2511, 'v': 694, 'z': 434, 'x': 288, 'j': 291, 'q': 112}\n"
     ]
    }
   ],
   "source": [
    "items_in_dict: list[tuple[str, int]] = list(shakespeare_letters.items())\n",
    "items_in_dict: sorted(items_in_dict)\n",
    "sorted_letters: dict[str, int] = dict(items_in_dict)\n",
    "print(sorted_letters)"
   ]
  },
  {
   "cell_type": "code",
   "execution_count": 31,
   "metadata": {},
   "outputs": [
    {
     "name": "stdout",
     "output_type": "stream",
     "text": [
      "['a', 'h', 'e', 'd', 'l', 'i', 'r', 'g', 't', 'b', 'c', 'k', 's', 'f', 'm', 'p', 'n', 'y', 'o', 'w', 'u', 'v', 'z', 'x', 'j', 'q']\n",
      "[5990, 1760, 6662, 2453, 3371, 3759, 4158, 1644, 3295, 1627, 2028, 1505, 6665, 1115, 1976, 2019, 2952, 2074, 4438, 1039, 2511, 694, 434, 288, 291, 112]\n"
     ]
    },
    {
     "data": {
      "text/plain": [
       "<BarContainer object of 26 artists>"
      ]
     },
     "execution_count": 31,
     "metadata": {},
     "output_type": "execute_result"
    },
    {
     "data": {
      "image/png": "[encoded data removed]",
      "text/plain": [
       "<Figure size 432x288 with 1 Axes>"
      ]
     },
     "metadata": {
      "needs_background": "light"
     },
     "output_type": "display_data"
    }
   ],
   "source": [
    "from matplotlib import pyplot\n",
    "\n",
    "pyplot.title(\"frequencies of letters\")\n",
    "pyplot.xlabel(\"letters\")\n",
    "pyplot.ylabel(\"frequencies\")\n",
    "labels: list[str] = list(sorted_letters.keys())\n",
    "values: list[int] = list(sorted_letters.values())\n",
    "print(labels)\n",
    "print(values)\n",
    "pyplot.bar(labels, values)\n"
   ]
  }
 ],
 "metadata": {
  "interpreter": {
   "hash": "aee8b7b246df8f9039afb4144a1f6fd8d2ca17a180786b69acc140d282b71a49"
  },
  "kernelspec": {
   "display_name": "Python 3.10.1 64-bit",
   "language": "python",
   "name": "python3"
  },
  "language_info": {
   "codemirror_mode": {
    "name": "ipython",
    "version": 3
   },
   "file_extension": ".py",
   "mimetype": "text/x-python",
   "name": "python",
   "nbconvert_exporter": "python",
   "pygments_lexer": "ipython3",
   "version": "3.10.1"
  },
  "orig_nbformat": 4
 },
 "nbformat": 4,
 "nbformat_minor": 2
}
